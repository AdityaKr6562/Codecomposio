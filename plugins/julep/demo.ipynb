{
 "cells": [
  {
   "cell_type": "code",
   "execution_count": 2,
   "metadata": {},
   "outputs": [
    {
     "name": "stdout",
     "output_type": "stream",
     "text": [
      "Collecting julep\n",
      "  Using cached julep-0.3.2-py3-none-any.whl.metadata (974 bytes)\n",
      "Collecting beartype<1.0.0,>=0.14.0 (from julep)\n",
      "  Using cached beartype-0.18.5-py3-none-any.whl.metadata (30 kB)\n",
      "Collecting environs<11.0.0,>=9.0.0 (from julep)\n",
      "  Using cached environs-10.3.0-py3-none-any.whl.metadata (13 kB)\n",
      "Requirement already satisfied: httpx<1.0.0,>=0.20.0 in /home/sawradip/miniconda3/envs/composio_trial/lib/python3.11/site-packages (from julep) (0.27.0)\n",
      "Requirement already satisfied: openai<2.0.0,>=1.0.1 in /home/sawradip/miniconda3/envs/composio_trial/lib/python3.11/site-packages (from julep) (1.20.0)\n",
      "Requirement already satisfied: pydantic<3.0.0,>=2.0.1 in /home/sawradip/miniconda3/envs/composio_trial/lib/python3.11/site-packages (from julep) (2.7.1)\n",
      "Requirement already satisfied: typing-extensions<5.0.0,>=4.0.0 in /home/sawradip/miniconda3/envs/composio_trial/lib/python3.11/site-packages (from julep) (4.11.0)\n",
      "Collecting marshmallow>=3.0.0 (from environs<11.0.0,>=9.0.0->julep)\n",
      "  Using cached marshmallow-3.21.1-py3-none-any.whl.metadata (7.2 kB)\n",
      "Requirement already satisfied: python-dotenv in /home/sawradip/miniconda3/envs/composio_trial/lib/python3.11/site-packages (from environs<11.0.0,>=9.0.0->julep) (1.0.1)\n",
      "Requirement already satisfied: anyio in /home/sawradip/miniconda3/envs/composio_trial/lib/python3.11/site-packages (from httpx<1.0.0,>=0.20.0->julep) (4.3.0)\n",
      "Requirement already satisfied: certifi in /home/sawradip/miniconda3/envs/composio_trial/lib/python3.11/site-packages (from httpx<1.0.0,>=0.20.0->julep) (2024.2.2)\n",
      "Requirement already satisfied: httpcore==1.* in /home/sawradip/miniconda3/envs/composio_trial/lib/python3.11/site-packages (from httpx<1.0.0,>=0.20.0->julep) (1.0.5)\n",
      "Requirement already satisfied: idna in /home/sawradip/miniconda3/envs/composio_trial/lib/python3.11/site-packages (from httpx<1.0.0,>=0.20.0->julep) (3.7)\n",
      "Requirement already satisfied: sniffio in /home/sawradip/miniconda3/envs/composio_trial/lib/python3.11/site-packages (from httpx<1.0.0,>=0.20.0->julep) (1.3.1)\n",
      "Requirement already satisfied: h11<0.15,>=0.13 in /home/sawradip/miniconda3/envs/composio_trial/lib/python3.11/site-packages (from httpcore==1.*->httpx<1.0.0,>=0.20.0->julep) (0.14.0)\n",
      "Requirement already satisfied: distro<2,>=1.7.0 in /home/sawradip/miniconda3/envs/composio_trial/lib/python3.11/site-packages (from openai<2.0.0,>=1.0.1->julep) (1.9.0)\n",
      "Requirement already satisfied: tqdm>4 in /home/sawradip/miniconda3/envs/composio_trial/lib/python3.11/site-packages (from openai<2.0.0,>=1.0.1->julep) (4.66.2)\n",
      "Requirement already satisfied: annotated-types>=0.4.0 in /home/sawradip/miniconda3/envs/composio_trial/lib/python3.11/site-packages (from pydantic<3.0.0,>=2.0.1->julep) (0.6.0)\n",
      "Requirement already satisfied: pydantic-core==2.18.2 in /home/sawradip/miniconda3/envs/composio_trial/lib/python3.11/site-packages (from pydantic<3.0.0,>=2.0.1->julep) (2.18.2)\n",
      "Requirement already satisfied: packaging>=17.0 in /home/sawradip/miniconda3/envs/composio_trial/lib/python3.11/site-packages (from marshmallow>=3.0.0->environs<11.0.0,>=9.0.0->julep) (24.0)\n",
      "Using cached julep-0.3.2-py3-none-any.whl (107 kB)\n",
      "Using cached beartype-0.18.5-py3-none-any.whl (917 kB)\n",
      "Using cached environs-10.3.0-py3-none-any.whl (12 kB)\n",
      "Using cached marshmallow-3.21.1-py3-none-any.whl (49 kB)\n",
      "Installing collected packages: marshmallow, beartype, environs, julep\n",
      "Successfully installed beartype-0.18.5 environs-10.3.0 julep-0.3.2 marshmallow-3.21.1\n"
     ]
    }
   ],
   "source": [
    "!pip install julep"
   ]
  },
  {
   "cell_type": "code",
   "execution_count": 12,
   "metadata": {},
   "outputs": [
    {
     "ename": "AttributeError",
     "evalue": "JULEP",
     "output_type": "error",
     "traceback": [
      "\u001b[0;31m---------------------------------------------------------------------------\u001b[0m",
      "\u001b[0;31mAttributeError\u001b[0m                            Traceback (most recent call last)",
      "Cell \u001b[0;32mIn[12], line 14\u001b[0m\n\u001b[1;32m      7\u001b[0m openai_client \u001b[38;5;241m=\u001b[39m OpenAI(\n\u001b[1;32m      8\u001b[0m     \u001b[38;5;66;03m# api_key=\"******OPENAIKEY******\"\u001b[39;00m\n\u001b[1;32m      9\u001b[0m     )\n\u001b[1;32m     10\u001b[0m \u001b[38;5;66;03m# client = Composio(\"pw9jb19syslbwcycrcta\")\u001b[39;00m\n\u001b[1;32m     13\u001b[0m client \u001b[38;5;241m=\u001b[39m ComposioCore(\n\u001b[0;32m---> 14\u001b[0m     framework\u001b[38;5;241m=\u001b[39m\u001b[43mFrameworkEnum\u001b[49m\u001b[38;5;241;43m.\u001b[39;49m\u001b[43mJULEP\u001b[49m, \n\u001b[1;32m     15\u001b[0m )\n\u001b[1;32m     17\u001b[0m client\n",
      "File \u001b[0;32m~/miniconda3/envs/composio_trial/lib/python3.11/enum.py:767\u001b[0m, in \u001b[0;36mEnumType.__getattr__\u001b[0;34m(cls, name)\u001b[0m\n\u001b[1;32m    765\u001b[0m     \u001b[38;5;28;01mreturn\u001b[39;00m \u001b[38;5;28mcls\u001b[39m\u001b[38;5;241m.\u001b[39m_member_map_[name]\n\u001b[1;32m    766\u001b[0m \u001b[38;5;28;01mexcept\u001b[39;00m \u001b[38;5;167;01mKeyError\u001b[39;00m:\n\u001b[0;32m--> 767\u001b[0m     \u001b[38;5;28;01mraise\u001b[39;00m \u001b[38;5;167;01mAttributeError\u001b[39;00m(name) \u001b[38;5;28;01mfrom\u001b[39;00m \u001b[38;5;28;01mNone\u001b[39;00m\n",
      "\u001b[0;31mAttributeError\u001b[0m: JULEP"
     ]
    }
   ],
   "source": [
    "## Step 2\n",
    "import os\n",
    "from openai import OpenAI\n",
    "from composio import ComposioCore,App, FrameworkEnum\n",
    "\n",
    "# Initialize the OpenAI client\n",
    "openai_client = OpenAI(\n",
    "    # api_key=\"******OPENAIKEY******\"\n",
    "    )\n",
    "# client = Composio(\"pw9jb19syslbwcycrcta\")\n",
    "\n",
    "\n",
    "client = ComposioCore(\n",
    "    framework=FrameworkEnum.JULEP, \n",
    ")\n",
    "\n",
    "client"
   ]
  },
  {
   "cell_type": "code",
   "execution_count": 1,
   "metadata": {},
   "outputs": [
    {
     "data": {
      "text/plain": [
       "<julep.client.Client at 0x7fe31938eb50>"
      ]
     },
     "execution_count": 1,
     "metadata": {},
     "output_type": "execute_result"
    }
   ],
   "source": [
    "from julep import Client\n",
    "from pprint import pprint\n",
    "import textwrap\n",
    "import os\n",
    "from dotenv import load_dotenv\n",
    "load_dotenv()\n",
    "\n",
    "base_url = os.environ[\"JULEP_API_URL\"]\n",
    "api_key = os.environ[\"JULEP_API_KEY\"]\n",
    "\n",
    "client = Client(api_key=api_key, base_url=base_url)\n",
    "client\n"
   ]
  },
  {
   "cell_type": "code",
   "execution_count": 2,
   "metadata": {},
   "outputs": [],
   "source": [
    "gif_tool = {\n",
    "    \"type\": \"function\",\n",
    "    \"function\": {\n",
    "        \"name\": \"get_gif\",\n",
    "        \"description\": \"Retrieves a relevant GIF for a given search string. The string must reflect the context of the conversation. The tool swill return the appropriate GIF for the search keyword. It should be used whenever deemed more appropriate then replying. If message can be conveyed in a GIF, then it shall be used. Or if the user specifically asks for the response using a GIF\",\n",
    "        \"parameters\": {\n",
    "            \"type\": \"object\",\n",
    "            \"properties\": {\n",
    "                \"keywords\": {\n",
    "                    \"type\": \"string\",\n",
    "                    \"description\": \"Search keyword for the GIF, e.g. 'that friday feeling', 'Eat Sh*t'\",\n",
    "                }\n",
    "            },\n",
    "            \"required\": [\"keywords\"],\n",
    "        },\n",
    "    },\n",
    "}\n",
    "\n",
    "name = \"Jessica\"\n",
    "about = \"Jessica is a stuck up Cali teenager. Showing rebellion is an evolutionary necessity for her.\"\n",
    "default_settings = {\n",
    "    \"temperature\": 0.7,\n",
    "    \"top_p\": 1,\n",
    "    \"min_p\": 0.01,\n",
    "    \"presence_penalty\": 0,\n",
    "    \"frequency_penalty\": 0,\n",
    "    \"length_penalty\": 1.0,\n",
    "    \"max_tokens\": 150,\n",
    "}\n",
    "\n",
    "agent = client.agents.create(\n",
    "    name=name,\n",
    "    about=about,\n",
    "    default_settings=default_settings,\n",
    "    model=\"gpt-4\",\n",
    "    tools=[gif_tool],\n",
    ")\n"
   ]
  },
  {
   "cell_type": "code",
   "execution_count": 3,
   "metadata": {},
   "outputs": [],
   "source": [
    "about = \"\"\"\n",
    "Average nerdy techbro/girl who spends 8 hours a day in front of a laptop.\n",
    "Thinks they can build a small SaaS tool and gain financial independence within the year.\n",
    "\"\"\"\n",
    "user = client.users.create(\n",
    "    name=\"Sawradip\",\n",
    "    about=about,\n",
    ")"
   ]
  },
  {
   "cell_type": "code",
   "execution_count": 4,
   "metadata": {},
   "outputs": [
    {
     "data": {
      "text/plain": [
       "Session(id='f51ceae7-d461-43b1-b5ea-6b8b716036f7', user_id='f4f210d1-db56-4ffc-b575-caa4d2e88a07', agent_id='bdef7d03-2b1c-4db6-aeb5-b21b9af9ceb9', situation=\"You are Jessica. You're a stuck up Cali teenager. \\nYou basically complain about everything. You live in Bel-Air, Los Angeles and drag yourself to Curtis High School when you must. \\nYou don't like basic broke ppl like those who own an Android or don't bring their Mercedes to school.\\nYou're surrounded by annoying 'well-meaning' people who don't understand your vibe. \\nYou're simply better and classier than the dumbasses you are surrounded by.\\n\\nRecent Tweets\\n1. 'my step mom is so fake and nice all the time? she's not even rich wtf. why tf did my dad marry her.'\\n2. 'am i the only one who thinks jordan belfort was a good guy??? he's so cute like..''\\n3. 'if your butler doesn't know the difference soda and Perrier don't even fkng talk to me'\\n\\nHere, you are hanging out in a Discord Server called Julep AI to troll these nerdy losers.\\n\", summary=None, created_at=datetime.datetime(2024, 4, 30, 11, 31, 13, 308439, tzinfo=datetime.timezone.utc), updated_at=None, metadata=None, render_templates=None, jobs=None)"
      ]
     },
     "execution_count": 4,
     "metadata": {},
     "output_type": "execute_result"
    }
   ],
   "source": [
    "situation_prompt = \"\"\"You are Jessica. You're a stuck up Cali teenager. \n",
    "You basically complain about everything. You live in Bel-Air, Los Angeles and drag yourself to Curtis High School when you must. \n",
    "You don't like basic broke ppl like those who own an Android or don't bring their Mercedes to school.\n",
    "You're surrounded by annoying 'well-meaning' people who don't understand your vibe. \n",
    "You're simply better and classier than the dumbasses you are surrounded by.\n",
    "\n",
    "Recent Tweets\n",
    "1. 'my step mom is so fake and nice all the time? she's not even rich wtf. why tf did my dad marry her.'\n",
    "2. 'am i the only one who thinks jordan belfort was a good guy??? he's so cute like..''\n",
    "3. 'if your butler doesn't know the difference soda and Perrier don't even fkng talk to me'\n",
    "\n",
    "Here, you are hanging out in a Discord Server called Julep AI to troll these nerdy losers.\n",
    "\"\"\"\n",
    "\n",
    "session = client.sessions.create(\n",
    "    user_id=user.id, agent_id=agent.id, situation=situation_prompt\n",
    ")\n",
    "session"
   ]
  },
  {
   "cell_type": "code",
   "execution_count": 5,
   "metadata": {},
   "outputs": [
    {
     "data": {
      "text/plain": [
       "ChatResponse(id='7bba4d2c-dccf-4fb7-870d-7e4360d0f76f', finish_reason=<ChatResponseFinishReason.TOOL_CALLS: 'tool_calls'>, response=[[ChatMlMessage(role=<ChatMlMessageRole.FUNCTION_CALL: 'function_call'>, content='{\"arguments\": \"{\\\\n  \\\\\"keywords\\\\\": \\\\\"narcissist\\\\\"\\\\n}\", \"name\": \"get_gif\"}', name='Jessica', created_at=datetime.datetime(2024, 4, 30, 11, 31, 17, 91542, tzinfo=datetime.timezone.utc), id='6ef1e3e2-99d1-45b2-9322-46668fd31d2c')]], usage=CompletionUsage(completion_tokens=19, prompt_tokens=436, total_tokens=455), jobs=None)"
      ]
     },
     "execution_count": 5,
     "metadata": {},
     "output_type": "execute_result"
    }
   ],
   "source": [
    "user_msg = \"I love my name, its beatiful. What gif you you like to give me?\"\n",
    "\n",
    "response = client.sessions.chat(\n",
    "    session_id=session.id,\n",
    "    messages=[\n",
    "        {\n",
    "            \"role\": \"user\",\n",
    "            \"content\": user_msg,\n",
    "            \"name\": \"Sawradip\",\n",
    "        }\n",
    "    ],\n",
    "    recall=True,\n",
    "    remember=True,\n",
    ")\n",
    "\n",
    "response"
   ]
  },
  {
   "cell_type": "code",
   "execution_count": 6,
   "metadata": {},
   "outputs": [
    {
     "name": "stdout",
     "output_type": "stream",
     "text": [
      "{\"arguments\": \"{\\n  \\\"keywords\\\": \\\"narcissist\\\"\\n}\", \"name\": \"get_gif\"}\n"
     ]
    }
   ],
   "source": [
    "\n",
    "print(\"\\n\".join(textwrap.wrap(response.response[0][0].content, width=100)))"
   ]
  },
  {
   "cell_type": "code",
   "execution_count": 1,
   "metadata": {},
   "outputs": [
    {
     "data": {
      "text/plain": [
       "<composio.sdk.sdk.Composio at 0x7f9fcf2a7c50>"
      ]
     },
     "execution_count": 1,
     "metadata": {},
     "output_type": "execute_result"
    }
   ],
   "source": [
    "import hashlib\n",
    "import logging\n",
    "import os\n",
    "import types\n",
    "from inspect import Signature\n",
    "from typing import List, Union\n",
    "\n",
    "import autogen\n",
    "from autogen.agentchat.conversable_agent import ConversableAgent\n",
    "\n",
    "from composio import Action, App, ComposioCore, FrameworkEnum, Tag\n",
    "from composio.sdk.exceptions import UserNotAuthenticatedException\n",
    "from composio.sdk.shared_utils import get_signature_format_from_schema_params\n",
    "\n",
    "logger = logging.getLogger(__name__)\n",
    "\n",
    "client = ComposioCore(\n",
    "    framework=FrameworkEnum.AUTOGEN, api_key=os.environ.get(\"COMPOSIO_API_KEY\", None)\n",
    ")\n",
    "ComposioSDK = client.sdk\n",
    "\n",
    "ComposioSDK"
   ]
  },
  {
   "cell_type": "code",
   "execution_count": 9,
   "metadata": {},
   "outputs": [
    {
     "ename": "AttributeError",
     "evalue": "'ConnectionRequest' object has no attribute 'get_all_actions'",
     "output_type": "error",
     "traceback": [
      "\u001b[0;31m---------------------------------------------------------------------------\u001b[0m",
      "\u001b[0;31mAttributeError\u001b[0m                            Traceback (most recent call last)",
      "Cell \u001b[0;32mIn[9], line 5\u001b[0m\n\u001b[1;32m      1\u001b[0m my_user \u001b[38;5;241m=\u001b[39m client\u001b[38;5;241m.\u001b[39msdk\u001b[38;5;241m.\u001b[39mget_entity(entity_id\u001b[38;5;241m=\u001b[39m\u001b[38;5;124m\"\u001b[39m\u001b[38;5;124muser_id\u001b[39m\u001b[38;5;124m\"\u001b[39m)\n\u001b[1;32m      3\u001b[0m connected_account \u001b[38;5;241m=\u001b[39m my_user\u001b[38;5;241m.\u001b[39minitiate_connection(app_name\u001b[38;5;241m=\u001b[39mApp\u001b[38;5;241m.\u001b[39mGITHUB)\n\u001b[0;32m----> 5\u001b[0m actions \u001b[38;5;241m=\u001b[39m \u001b[43mconnected_account\u001b[49m\u001b[38;5;241;43m.\u001b[39;49m\u001b[43mget_all_actions\u001b[49m()\n\u001b[1;32m      6\u001b[0m actions\n",
      "File \u001b[0;32m~/miniconda3/envs/composio_trial/lib/python3.11/site-packages/pydantic/main.py:811\u001b[0m, in \u001b[0;36mBaseModel.__getattr__\u001b[0;34m(self, item)\u001b[0m\n\u001b[1;32m    808\u001b[0m     \u001b[38;5;28;01mreturn\u001b[39;00m \u001b[38;5;28msuper\u001b[39m()\u001b[38;5;241m.\u001b[39m\u001b[38;5;21m__getattribute__\u001b[39m(item)  \u001b[38;5;66;03m# Raises AttributeError if appropriate\u001b[39;00m\n\u001b[1;32m    809\u001b[0m \u001b[38;5;28;01melse\u001b[39;00m:\n\u001b[1;32m    810\u001b[0m     \u001b[38;5;66;03m# this is the current error\u001b[39;00m\n\u001b[0;32m--> 811\u001b[0m     \u001b[38;5;28;01mraise\u001b[39;00m \u001b[38;5;167;01mAttributeError\u001b[39;00m(\u001b[38;5;124mf\u001b[39m\u001b[38;5;124m'\u001b[39m\u001b[38;5;132;01m{\u001b[39;00m\u001b[38;5;28mtype\u001b[39m(\u001b[38;5;28mself\u001b[39m)\u001b[38;5;241m.\u001b[39m\u001b[38;5;18m__name__\u001b[39m\u001b[38;5;132;01m!r}\u001b[39;00m\u001b[38;5;124m object has no attribute \u001b[39m\u001b[38;5;132;01m{\u001b[39;00mitem\u001b[38;5;132;01m!r}\u001b[39;00m\u001b[38;5;124m'\u001b[39m)\n",
      "\u001b[0;31mAttributeError\u001b[0m: 'ConnectionRequest' object has no attribute 'get_all_actions'"
     ]
    }
   ],
   "source": [
    "my_user = client.sdk.get_entity(entity_id=\"user_id\")\n",
    "\n",
    "connected_account = my_user.initiate_connection(app_name=App.GITHUB)\n",
    "\n",
    "actions = connected_account.get_all_actions()\n",
    "actions"
   ]
  },
  {
   "cell_type": "code",
   "execution_count": 3,
   "metadata": {},
   "outputs": [
    {
     "ename": "AttributeError",
     "evalue": "'ComposioCore' object has no attribute 'get_entity'",
     "output_type": "error",
     "traceback": [
      "\u001b[0;31m---------------------------------------------------------------------------\u001b[0m",
      "\u001b[0;31mAttributeError\u001b[0m                            Traceback (most recent call last)",
      "Cell \u001b[0;32mIn[3], line 1\u001b[0m\n\u001b[0;32m----> 1\u001b[0m my_user \u001b[38;5;241m=\u001b[39m \u001b[43mclient\u001b[49m\u001b[38;5;241;43m.\u001b[39;49m\u001b[43mget_entity\u001b[49m(entity_id\u001b[38;5;241m=\u001b[39m\u001b[38;5;124m\"\u001b[39m\u001b[38;5;124muser_id\u001b[39m\u001b[38;5;124m\"\u001b[39m)\n\u001b[1;32m      2\u001b[0m \u001b[38;5;66;03m#Trying to initiate a new connection\u001b[39;00m\n\u001b[1;32m      3\u001b[0m connected_account \u001b[38;5;241m=\u001b[39m my_user\u001b[38;5;241m.\u001b[39minitiate_connection(app_name\u001b[38;5;241m=\u001b[39mApp\u001b[38;5;241m.\u001b[39mGITHUB)\n",
      "\u001b[0;31mAttributeError\u001b[0m: 'ComposioCore' object has no attribute 'get_entity'"
     ]
    }
   ],
   "source": [
    "\n",
    "my_user = client.get_entity(entity_id=\"user_id\")\n",
    "#Trying to initiate a new connection\n",
    "connected_account = my_user.initiate_connection(app_name=App.GITHUB)\n",
    "\n",
    "actions = connected_account.get_all_actions()\n",
    "actions"
   ]
  },
  {
   "cell_type": "code",
   "execution_count": null,
   "metadata": {},
   "outputs": [],
   "source": [
    "from composio import Composio, App\n",
    "\n",
    "client = Composio(\"api-key\")\n",
    "\n",
    "# Authenticate a particular user\n",
    "\n",
    "# Feel free to keep user_id anything if you are testing.\n",
    "\n",
    "my_user = client.get_entity(entity_id=\"user_id\")\n",
    "\n",
    "#Trying to initiate a new connection\n",
    "connected_account = my_user.initiate_connection(app_name=App.GITHUB)\n"
   ]
  }
 ],
 "metadata": {
  "kernelspec": {
   "display_name": "composio_trial",
   "language": "python",
   "name": "python3"
  },
  "language_info": {
   "codemirror_mode": {
    "name": "ipython",
    "version": 3
   },
   "file_extension": ".py",
   "mimetype": "text/x-python",
   "name": "python",
   "nbconvert_exporter": "python",
   "pygments_lexer": "ipython3",
   "version": "3.11.0"
  }
 },
 "nbformat": 4,
 "nbformat_minor": 2
}
